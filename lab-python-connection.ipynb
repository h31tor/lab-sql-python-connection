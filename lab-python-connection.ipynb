{
 "cells": [
  {
   "cell_type": "code",
   "execution_count": 6,
   "id": "69b828e7",
   "metadata": {},
   "outputs": [],
   "source": [
    "from sqlalchemy import create_engine\n",
    "import pandas as pd\n",
    "\n",
    "user = 'jupyter_user'\n",
    "password = '666-Zelda'\n",
    "host = 'localhost'\n",
    "port = '3306'\n",
    "database = 'sakila'\n",
    "\n",
    "engine = create_engine(f\"mysql+mysqlconnector://{user}:{password}@{host}/{database}\")"
   ]
  },
  {
   "cell_type": "code",
   "execution_count": 7,
   "id": "7ee930f4",
   "metadata": {},
   "outputs": [
    {
     "data": {
      "text/plain": [
       "<sqlalchemy.engine.base.Connection at 0x16744e37ad0>"
      ]
     },
     "execution_count": 7,
     "metadata": {},
     "output_type": "execute_result"
    }
   ],
   "source": [
    "engine.connect()"
   ]
  },
  {
   "cell_type": "code",
   "execution_count": 11,
   "id": "2651ebf3",
   "metadata": {},
   "outputs": [],
   "source": [
    "import pandas as pd\n",
    "from sqlalchemy import text\n",
    "\n",
    "def rentals_month(engine, month, year):\n",
    "    query = text(\"\"\"\n",
    "        SELECT * \n",
    "        FROM rental\n",
    "        WHERE MONTH(rental_date) = :month\n",
    "          AND YEAR(rental_date) = :year\n",
    "    \"\"\")  \n",
    "    df = pd.read_sql_query(query, engine, params={\"month\": month, \"year\": year})\n",
    "    return df"
   ]
  },
  {
   "cell_type": "code",
   "execution_count": 12,
   "id": "54bab253",
   "metadata": {},
   "outputs": [
    {
     "name": "stdout",
     "output_type": "stream",
     "text": [
      "   rental_id         rental_date  inventory_id  customer_id  \\\n",
      "0       1158 2005-06-14 22:53:33          1632          416   \n",
      "1       1159 2005-06-14 22:55:13          4395          516   \n",
      "2       1160 2005-06-14 23:00:34          2795          239   \n",
      "3       1161 2005-06-14 23:07:08          1690          285   \n",
      "4       1162 2005-06-14 23:09:38           987          310   \n",
      "\n",
      "          return_date  staff_id         last_update  \n",
      "0 2005-06-18 21:37:33         2 2006-02-15 21:30:53  \n",
      "1 2005-06-17 02:11:13         1 2006-02-15 21:30:53  \n",
      "2 2005-06-18 01:58:34         2 2006-02-15 21:30:53  \n",
      "3 2005-06-21 17:12:08         1 2006-02-15 21:30:53  \n",
      "4 2005-06-23 22:00:38         1 2006-02-15 21:30:53  \n"
     ]
    }
   ],
   "source": [
    "df_rentals = rentals_month(engine, 6, 2005)\n",
    "print(df_rentals.head())"
   ]
  },
  {
   "cell_type": "code",
   "execution_count": 13,
   "id": "7b2230e8",
   "metadata": {},
   "outputs": [],
   "source": [
    "def rental_count_month(df, month, year):\n",
    "    column_name = f\"rentals_{month:02d}_{year}\"\n",
    "    \n",
    "    rental_counts = (\n",
    "        df.groupby(\"customer_id\")\n",
    "          .size()\n",
    "          .reset_index(name=column_name)\n",
    "    )\n",
    "    \n",
    "    return rental_counts"
   ]
  },
  {
   "cell_type": "code",
   "execution_count": 14,
   "id": "41894f43",
   "metadata": {},
   "outputs": [
    {
     "name": "stdout",
     "output_type": "stream",
     "text": [
      "   customer_id  rentals_05_2005\n",
      "0            1                2\n",
      "1            2                1\n",
      "2            3                2\n",
      "3            5                3\n",
      "4            6                3\n"
     ]
    }
   ],
   "source": [
    "df_rentals = rentals_month(engine, 5, 2005)\n",
    "df_counts = rental_count_month(df_rentals, 5, 2005)\n",
    "print(df_counts.head())"
   ]
  },
  {
   "cell_type": "code",
   "execution_count": 15,
   "id": "fceaa8a7",
   "metadata": {},
   "outputs": [],
   "source": [
    "def compare_rentals(df1, df2):\n",
    "    combined = pd.merge(df1, df2, on=\"customer_id\", how=\"outer\").fillna(0)\n",
    "\n",
    "    col1 = df1.columns[1]\n",
    "    col2 = df2.columns[1]\n",
    "\n",
    "    combined[col1] = combined[col1].astype(int)\n",
    "    combined[col2] = combined[col2].astype(int)\n",
    "\n",
    "    combined[\"difference\"] = combined[col2] - combined[col1]\n",
    "\n",
    "    return combined"
   ]
  },
  {
   "cell_type": "code",
   "execution_count": 16,
   "id": "5b4ffdf6",
   "metadata": {},
   "outputs": [
    {
     "name": "stdout",
     "output_type": "stream",
     "text": [
      "   customer_id  rentals_05_2005  rentals_06_2005  difference\n",
      "0            1                2                7           5\n",
      "1            2                1                1           0\n",
      "2            3                2                4           2\n",
      "3            4                0                6           6\n",
      "4            5                3                5           2\n"
     ]
    }
   ],
   "source": [
    "df_may = rental_count_month(rentals_month(engine, 5, 2005), 5, 2005)\n",
    "df_june = rental_count_month(rentals_month(engine, 6, 2005), 6, 2005)\n",
    "\n",
    "comparison = compare_rentals(df_may, df_june)\n",
    "print(comparison.head())"
   ]
  }
 ],
 "metadata": {
  "kernelspec": {
   "display_name": "base",
   "language": "python",
   "name": "python3"
  },
  "language_info": {
   "codemirror_mode": {
    "name": "ipython",
    "version": 3
   },
   "file_extension": ".py",
   "mimetype": "text/x-python",
   "name": "python",
   "nbconvert_exporter": "python",
   "pygments_lexer": "ipython3",
   "version": "3.12.7"
  }
 },
 "nbformat": 4,
 "nbformat_minor": 5
}
